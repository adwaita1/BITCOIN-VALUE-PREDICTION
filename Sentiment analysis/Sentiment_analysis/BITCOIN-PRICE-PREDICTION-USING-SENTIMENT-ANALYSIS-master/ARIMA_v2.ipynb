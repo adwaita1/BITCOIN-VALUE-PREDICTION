{
 "cells": [
  {
   "cell_type": "code",
   "execution_count": 1,
   "metadata": {},
   "outputs": [],
   "source": [
    "import pyspark\n",
    "from pyspark import SparkContext,SQLContext\n",
    "sc = SparkContext.getOrCreate()"
   ]
  },
  {
   "cell_type": "code",
   "execution_count": null,
   "metadata": {
    "collapsed": true
   },
   "outputs": [],
   "source": [
    "bitCoinPrices = sc.textFile('bitcoinprices.txt')"
   ]
  },
  {
   "cell_type": "code",
   "execution_count": null,
   "metadata": {
    "collapsed": true
   },
   "outputs": [],
   "source": [
    "bitCoinPrices.map(lambda x: x.split(',')).take(10)"
   ]
  },
  {
   "cell_type": "code",
   "execution_count": null,
   "metadata": {
    "collapsed": true
   },
   "outputs": [],
   "source": [
    "bitCoinPrices=spark.read.csv('bitcoinprices.txt', mode=\"DROPMALFORMED\",inferSchema=True, header = False)"
   ]
  },
  {
   "cell_type": "code",
   "execution_count": null,
   "metadata": {
    "collapsed": true
   },
   "outputs": [],
   "source": [
    "bitCoinPrices = bitCoinPrices.withColumnRenamed('_c0','date').withColumnRenamed('_c1','price')"
   ]
  },
  {
   "cell_type": "code",
   "execution_count": null,
   "metadata": {
    "collapsed": true
   },
   "outputs": [],
   "source": [
    "bitCoinPrices.sort('date').head(657)"
   ]
  },
  {
   "cell_type": "code",
   "execution_count": null,
   "metadata": {
    "collapsed": true
   },
   "outputs": [],
   "source": [
    "tweetSents=spark.read.csv('sentiment6.txt', mode=\"DROPMALFORMED\",inferSchema=True, header = False)"
   ]
  },
  {
   "cell_type": "code",
   "execution_count": null,
   "metadata": {
    "collapsed": true
   },
   "outputs": [],
   "source": [
    "tweetSents = tweetSents.withColumnRenamed('_c0','date').withColumnRenamed('_c1','SentimentProb')"
   ]
  },
  {
   "cell_type": "code",
   "execution_count": null,
   "metadata": {
    "collapsed": true
   },
   "outputs": [],
   "source": [
    "tweetSents.sort('date').head(643)"
   ]
  },
  {
   "cell_type": "code",
   "execution_count": null,
   "metadata": {
    "collapsed": true
   },
   "outputs": [],
   "source": [
    "df1 = flintContext.read.pandas(pd.read_csv(bitcoinprices.txt))"
   ]
  },
  {
   "cell_type": "code",
   "execution_count": 3,
   "metadata": {
    "collapsed": true
   },
   "outputs": [],
   "source": [
    "import pandas"
   ]
  },
  {
   "cell_type": "code",
   "execution_count": 2,
   "metadata": {},
   "outputs": [
    {
     "ename": "NameError",
     "evalue": "name 'flintContext' is not defined",
     "output_type": "error",
     "traceback": [
      "\u001b[1;31m---------------------------------------------------------------------------\u001b[0m",
      "\u001b[1;31mNameError\u001b[0m                                 Traceback (most recent call last)",
      "\u001b[1;32m<ipython-input-2-0572c1bfc892>\u001b[0m in \u001b[0;36m<module>\u001b[1;34m()\u001b[0m\n\u001b[1;32m----> 1\u001b[1;33m \u001b[0mdf1\u001b[0m \u001b[1;33m=\u001b[0m \u001b[0mflintContext\u001b[0m\u001b[1;33m.\u001b[0m\u001b[0mread\u001b[0m\u001b[1;33m.\u001b[0m\u001b[0mpandas\u001b[0m\u001b[1;33m(\u001b[0m\u001b[0mpd\u001b[0m\u001b[1;33m.\u001b[0m\u001b[0mread_csv\u001b[0m\u001b[1;33m(\u001b[0m\u001b[0mbitcoinprices\u001b[0m\u001b[1;33m.\u001b[0m\u001b[0mtxt\u001b[0m\u001b[1;33m)\u001b[0m\u001b[1;33m)\u001b[0m\u001b[1;33m\u001b[0m\u001b[0m\n\u001b[0m",
      "\u001b[1;31mNameError\u001b[0m: name 'flintContext' is not defined"
     ]
    }
   ],
   "source": [
    "df1 = flintContext.read.pandas(pd.read_csv(bitcoinprices.txt))"
   ]
  },
  {
   "cell_type": "code",
   "execution_count": 4,
   "metadata": {},
   "outputs": [
    {
     "ename": "ImportError",
     "evalue": "No module named 'ts'",
     "output_type": "error",
     "traceback": [
      "\u001b[1;31m---------------------------------------------------------------------------\u001b[0m",
      "\u001b[1;31mImportError\u001b[0m                               Traceback (most recent call last)",
      "\u001b[1;32m<ipython-input-4-db01aeac061b>\u001b[0m in \u001b[0;36m<module>\u001b[1;34m()\u001b[0m\n\u001b[1;32m----> 1\u001b[1;33m \u001b[1;32mimport\u001b[0m \u001b[0mts\u001b[0m\u001b[1;33m.\u001b[0m\u001b[0mflint\u001b[0m\u001b[1;33m\u001b[0m\u001b[0m\n\u001b[0m\u001b[0;32m      2\u001b[0m \u001b[1;32mfrom\u001b[0m \u001b[0mts\u001b[0m\u001b[1;33m.\u001b[0m\u001b[0mflint\u001b[0m \u001b[1;32mimport\u001b[0m \u001b[0mFlintContext\u001b[0m\u001b[1;33m\u001b[0m\u001b[0m\n",
      "\u001b[1;31mImportError\u001b[0m: No module named 'ts'"
     ]
    }
   ],
   "source": [
    "import ts.flint\n",
    "from ts.flint import FlintContext"
   ]
  },
  {
   "cell_type": "code",
   "execution_count": 19,
   "metadata": {
    "scrolled": true
   },
   "outputs": [
    {
     "name": "stdout",
     "output_type": "stream",
     "text": [
      "                             ARIMA Model Results                              \n",
      "==============================================================================\n",
      "Dep. Variable:                D.427.1   No. Observations:                  655\n",
      "Model:                ARIMA(10, 1, 0)   Log Likelihood               -5765.509\n",
      "Method:                       css-mle   S.D. of innovations           1605.919\n",
      "Date:                Wed, 15 Nov 2017   AIC                          11555.018\n",
      "Time:                        21:44:04   BIC                          11608.833\n",
      "Sample:                    06-13-2016   HQIC                         11575.884\n",
      "                         - 05-24-2017                                         \n",
      "==================================================================================\n",
      "                     coef    std err          z      P>|z|      [0.025      0.975]\n",
      "----------------------------------------------------------------------------------\n",
      "const              0.2322      7.744      0.030      0.976     -14.946      15.410\n",
      "ar.L1.D.427.1     -0.9627      0.039    -24.934      0.000      -1.038      -0.887\n",
      "ar.L2.D.427.1     -0.9628      0.052    -18.344      0.000      -1.066      -0.860\n",
      "ar.L3.D.427.1     -0.9123      0.062    -14.804      0.000      -1.033      -0.791\n",
      "ar.L4.D.427.1     -0.9390      0.067    -14.099      0.000      -1.070      -0.808\n",
      "ar.L5.D.427.1     -0.8788      0.069    -12.784      0.000      -1.014      -0.744\n",
      "ar.L6.D.427.1     -0.8319      0.069    -12.123      0.000      -0.966      -0.697\n",
      "ar.L7.D.427.1     -0.6530      0.066     -9.831      0.000      -0.783      -0.523\n",
      "ar.L8.D.427.1     -0.5174      0.061     -8.412      0.000      -0.638      -0.397\n",
      "ar.L9.D.427.1     -0.3347      0.053     -6.375      0.000      -0.438      -0.232\n",
      "ar.L10.D.427.1    -0.1598      0.039     -4.133      0.000      -0.236      -0.084\n",
      "                                    Roots                                     \n",
      "==============================================================================\n",
      "                  Real           Imaginary           Modulus         Frequency\n",
      "------------------------------------------------------------------------------\n",
      "AR.1             0.8465           -0.6878j            1.0907           -0.1086\n",
      "AR.2             0.8465           +0.6878j            1.0907            0.1086\n",
      "AR.3             0.4148           -1.1292j            1.2030           -0.1940\n",
      "AR.4             0.4148           +1.1292j            1.2030            0.1940\n",
      "AR.5            -0.2562           -1.1801j            1.2076           -0.2840\n",
      "AR.6            -0.2562           +1.1801j            1.2076            0.2840\n",
      "AR.7            -1.1750           -0.4087j            1.2441           -0.4467\n",
      "AR.8            -1.1750           +0.4087j            1.2441            0.4467\n",
      "AR.9            -0.8773           -0.9170j            1.2690           -0.3715\n",
      "AR.10           -0.8773           +0.9170j            1.2690            0.3715\n",
      "------------------------------------------------------------------------------\n"
     ]
    },
    {
     "data": {
      "image/png": "[encoded data removed]",
      "text/plain": [
       "<matplotlib.figure.Figure at 0x1d9007099e8>"
      ]
     },
     "metadata": {},
     "output_type": "display_data"
    },
    {
     "data": {
      "image/png": "[encoded data removed]",
      "text/plain": [
       "<matplotlib.figure.Figure at 0x1d9017188d0>"
      ]
     },
     "metadata": {},
     "output_type": "display_data"
    },
    {
     "name": "stdout",
     "output_type": "stream",
     "text": [
      "                 0\n",
      "count   655.000000\n",
      "mean      4.884351\n",
      "std    1608.617675\n",
      "min   -2960.046887\n",
      "25%    -998.792861\n",
      "50%    -468.573260\n",
      "75%     482.996348\n",
      "max    6497.914552\n"
     ]
    }
   ],
   "source": [
    "from pandas import read_csv\n",
    "from pandas import datetime\n",
    "from pandas import DataFrame\n",
    "from statsmodels.tsa.arima_model import ARIMA\n",
    "from matplotlib import pyplot\n",
    "def parser(x):\n",
    "    return datetime.strptime(x, '%Y%m%d')\n",
    "\n",
    "series = read_csv('bitcoinprices.txt', header=0, parse_dates=[0], index_col=0, squeeze=True, date_parser=parser)\n",
    "# fit model\n",
    "model = ARIMA(series, order=(10,1,0))\n",
    "model_fit = model.fit(disp=0)\n",
    "print(model_fit.summary())\n",
    "# plot residual errors\n",
    "residuals = DataFrame(model_fit.resid)\n",
    "residuals.plot()\n",
    "pyplot.show()\n",
    "residuals.plot(kind='kde')\n",
    "pyplot.show()\n",
    "print(residuals.describe())"
   ]
  },
  {
   "cell_type": "code",
   "execution_count": 44,
   "metadata": {},
   "outputs": [
    {
     "name": "stdout",
     "output_type": "stream",
     "text": [
      "predicted=1131.924869, expected=1160.800000\n",
      "predicted=1170.547150, expected=1185.400000\n",
      "predicted=1176.787441, expected=1189.500000\n",
      "predicted=1205.632655, expected=1186.200000\n",
      "predicted=1181.409992, expected=1209.500000\n",
      "predicted=1207.497883, expected=1203.600000\n",
      "predicted=1198.542001, expected=1228.400000\n",
      "predicted=1234.204510, expected=1211.700000\n",
      "predicted=1214.034524, expected=1178.900000\n",
      "predicted=1179.338993, expected=1180.600000\n",
      "predicted=1186.100887, expected=1188.700000\n",
      "predicted=1188.088996, expected=1171.800000\n",
      "predicted=1184.020209, expected=1193.000000\n",
      "predicted=1190.549582, expected=1196.400000\n",
      "predicted=1191.032111, expected=1219.000000\n",
      "predicted=1218.158646, expected=1248.900000\n",
      "predicted=1250.968988, expected=1249.900000\n",
      "predicted=1247.991102, expected=1250.000000\n",
      "predicted=1255.063327, expected=1254.200000\n",
      "predicted=1251.173412, expected=1267.000000\n",
      "predicted=1273.833156, expected=1290.300000\n",
      "predicted=1294.878080, expected=1318.100000\n",
      "predicted=1317.511181, expected=1358.600000\n",
      "predicted=1355.473493, expected=1350.100000\n",
      "predicted=1344.784704, expected=1349.800000\n",
      "predicted=1350.949127, expected=1374.700000\n",
      "predicted=1377.227513, expected=1460.000000\n",
      "predicted=1464.127557, expected=1469.000000\n",
      "predicted=1475.129079, expected=1560.200000\n",
      "predicted=1555.679824, expected=1620.000000\n",
      "predicted=1613.594885, expected=1586.900000\n",
      "predicted=1583.958339, expected=1599.400000\n",
      "predicted=1620.590858, expected=1620.700000\n",
      "predicted=1617.525455, expected=1706.000000\n",
      "predicted=1732.566885, expected=1727.900000\n",
      "predicted=1737.132850, expected=1838.500000\n",
      "predicted=1838.684060, expected=1787.900000\n",
      "predicted=1784.040613, expected=1699.900000\n",
      "predicted=1698.041310, expected=1799.800000\n",
      "predicted=1824.508692, expected=1774.900000\n",
      "predicted=1784.460201, expected=1744.100000\n",
      "predicted=1789.977027, expected=1829.000000\n",
      "predicted=1810.583733, expected=1804.000000\n",
      "predicted=1776.289599, expected=1924.900000\n",
      "predicted=1938.665334, expected=1993.000000\n",
      "predicted=1982.087626, expected=2073.400000\n",
      "predicted=2077.787080, expected=2173.300000\n",
      "predicted=2173.144998, expected=2166.900000\n",
      "predicted=2177.340053, expected=2312.100000\n",
      "predicted=2353.478398, expected=2675.000000\n",
      "predicted=2729.538515, expected=2434.300000\n",
      "predicted=2521.227597, expected=2126.700000\n",
      "predicted=2192.437465, expected=2219.900000\n",
      "predicted=2267.553479, expected=2226.900000\n",
      "predicted=2210.937489, expected=2287.000000\n",
      "predicted=2382.663109, expected=2188.000000\n",
      "predicted=2076.024796, expected=2377.900000\n",
      "predicted=2427.001155, expected=2434.900000\n",
      "predicted=2285.718401, expected=2458.200000\n",
      "predicted=2465.057423, expected=2518.400000\n",
      "predicted=2545.356883, expected=2584.900000\n",
      "predicted=2531.707461, expected=2845.800000\n",
      "predicted=2854.724686, expected=2818.700000\n",
      "predicted=2784.662659, expected=2712.000000\n",
      "predicted=2760.327596, expected=2727.700000\n",
      "predicted=2753.909838, expected=2814.100000\n",
      "predicted=2810.864977, expected=2909.500000\n",
      "predicted=2898.695116, expected=2978.900000\n",
      "predicted=2972.391247, expected=2749.900000\n",
      "predicted=2749.528822, expected=2800.000000\n",
      "predicted=2845.162376, expected=2362.900000\n",
      "predicted=2355.875274, expected=2455.700000\n",
      "predicted=2516.245923, expected=2466.700000\n",
      "predicted=2482.689243, expected=2660.000000\n",
      "predicted=2602.144612, expected=2574.000000\n",
      "predicted=2560.706251, expected=2624.400000\n",
      "predicted=2530.643286, expected=2696.800000\n",
      "predicted=2764.077180, expected=2560.000000\n",
      "predicted=2560.586733, expected=2712.100000\n",
      "predicted=2745.801813, expected=2706.900000\n",
      "predicted=2784.942755, expected=2535.800000\n",
      "predicted=2540.127330, expected=2475.100000\n",
      "predicted=2479.719725, expected=2400.900000\n",
      "predicted=2435.177319, expected=2487.200000\n",
      "predicted=2481.743783, expected=2564.800000\n",
      "predicted=2554.993948, expected=2515.700000\n",
      "predicted=2528.072223, expected=2491.900000\n",
      "predicted=2477.426457, expected=2415.200000\n",
      "predicted=2427.048630, expected=2499.900000\n",
      "predicted=2528.917717, expected=2627.000000\n",
      "predicted=2639.786744, expected=2562.700000\n",
      "predicted=2569.524658, expected=2618.200000\n",
      "predicted=2597.334077, expected=2577.000000\n",
      "predicted=2576.844470, expected=2498.600000\n",
      "predicted=2518.992635, expected=2555.500000\n",
      "predicted=2569.756363, expected=2513.800000\n",
      "predicted=2542.963449, expected=2343.400000\n",
      "predicted=2350.918711, expected=2312.500000\n",
      "predicted=2313.503663, expected=2384.000000\n",
      "predicted=2404.339863, expected=2337.500000\n",
      "predicted=2337.357382, expected=2106.100000\n",
      "predicted=2128.183443, expected=1984.800000\n",
      "predicted=2024.570623, expected=2028.400000\n",
      "predicted=2044.497974, expected=2238.400000\n",
      "predicted=2237.037219, expected=2348.300000\n",
      "predicted=2335.056754, expected=2319.100000\n",
      "predicted=2292.173954, expected=2759.700000\n",
      "predicted=2757.917788, expected=2752.100000\n",
      "predicted=2745.357688, expected=2788.000000\n",
      "predicted=2805.702360, expected=2741.000000\n",
      "predicted=2770.701086, expected=2763.600000\n",
      "predicted=2775.207446, expected=2451.000000\n",
      "predicted=2400.437535, expected=2560.000000\n",
      "predicted=2516.170788, expected=2682.100000\n",
      "predicted=2671.490654, expected=2740.900000\n",
      "predicted=2669.225041, expected=2741.000000\n",
      "predicted=2746.130293, expected=2722.100000\n",
      "predicted=2728.390130, expected=2863.000000\n",
      "predicted=2861.590586, expected=2732.000000\n",
      "predicted=2740.457117, expected=2711.600000\n",
      "predicted=2738.536177, expected=2779.500000\n",
      "predicted=2785.808733, expected=3112.000000\n",
      "predicted=3065.507445, expected=3207.400000\n",
      "predicted=3167.859172, expected=3222.500000\n",
      "predicted=3203.455583, expected=3402.900000\n",
      "predicted=3403.932412, expected=3402.500000\n",
      "predicted=3372.562346, expected=3362.000000\n",
      "predicted=3335.927739, expected=3473.200000\n",
      "predicted=3497.394115, expected=3761.800000\n",
      "predicted=3755.427507, expected=4094.500000\n",
      "predicted=4072.590915, expected=4074.900000\n",
      "predicted=4061.443886, expected=4220.000000\n",
      "predicted=4249.376390, expected=4061.300000\n",
      "predicted=4055.315128, expected=4319.000000\n",
      "predicted=4318.599109, expected=4269.800000\n",
      "predicted=4334.075520, expected=4045.400000\n",
      "predicted=4064.022979, expected=4098.000000\n",
      "predicted=4112.813583, expected=4002.100000\n",
      "predicted=4007.746395, expected=3847.400000\n",
      "predicted=3799.196501, expected=4090.200000\n",
      "predicted=4095.203236, expected=4164.000000\n",
      "predicted=4179.896762, expected=4320.000000\n",
      "predicted=4285.863197, expected=4320.500000\n",
      "predicted=4324.302924, expected=4356.000000\n",
      "predicted=4381.049635, expected=4265.500000\n",
      "predicted=4256.278756, expected=4371.200000\n",
      "predicted=4380.932643, expected=4604.000000\n",
      "predicted=4634.811493, expected=4610.200000\n",
      "predicted=4607.534484, expected=4713.300000\n",
      "predicted=4711.653426, expected=4750.000000\n",
      "predicted=4755.003398, expected=4660.000000\n",
      "predicted=4652.487901, expected=4566.700000\n",
      "predicted=4575.943206, expected=4337.300000\n",
      "predicted=4365.519103, expected=4510.500000\n",
      "predicted=4521.438243, expected=4538.700000\n",
      "predicted=4537.225584, expected=4621.700000\n",
      "predicted=4626.139651, expected=4436.600000\n",
      "predicted=4440.605955, expected=4280.100000\n",
      "predicted=4272.733130, expected=4184.100000\n",
      "predicted=4179.631284, expected=4347.700000\n",
      "predicted=4377.896937, expected=4020.800000\n",
      "predicted=4061.150513, expected=3830.600000\n",
      "predicted=3832.917484, expected=3167.300000\n",
      "predicted=3148.843922, expected=3789.900000\n",
      "predicted=3721.181918, expected=3643.200000\n",
      "predicted=3745.897799, expected=3900.000000\n",
      "predicted=3708.258332, expected=3969.200000\n",
      "predicted=4052.890232, expected=3944.900000\n",
      "predicted=3899.139036, expected=3871.900000\n",
      "predicted=3898.634597, expected=3753.200000\n",
      "predicted=3763.655407, expected=3712.900000\n",
      "predicted=3799.038340, expected=3659.900000\n",
      "predicted=3595.991489, expected=3773.000000\n",
      "predicted=3810.407828, expected=3886.700000\n",
      "predicted=3883.985961, expected=3933.600000\n",
      "predicted=3934.820535, expected=4197.900000\n",
      "predicted=4177.994727, expected=4051.800000\n",
      "predicted=4076.279921, expected=4244.900000\n",
      "predicted=4186.023139, expected=4315.000000\n",
      "predicted=4348.559501, expected=4409.000000\n",
      "predicted=4396.137765, expected=4292.000000\n",
      "predicted=4302.816002, expected=4332.300000\n",
      "predicted=4339.602687, expected=4157.600000\n",
      "predicted=4200.457495, expected=4394.700000\n",
      "predicted=4350.026625, expected=4345.000000\n",
      "predicted=4423.837030, expected=4463.600000\n",
      "predicted=4414.030733, expected=4561.000000\n",
      "predicted=4590.717464, expected=4827.000000\n",
      "predicted=4804.070276, expected=4764.100000\n",
      "predicted=4791.744934, expected=4896.900000\n",
      "predicted=4848.183540, expected=5511.700000\n",
      "predicted=5526.703045, expected=5585.700000\n",
      "predicted=5611.475654, expected=5739.900000\n",
      "predicted=5726.468306, expected=5661.000000\n",
      "predicted=5739.215874, expected=5637.600000\n",
      "predicted=5638.735624, expected=5372.200000\n",
      "predicted=5390.497509, expected=5572.300000\n",
      "predicted=5584.648964, expected=5691.400000\n",
      "predicted=5746.262773, expected=6080.000000\n",
      "predicted=6061.883044, expected=5861.700000\n",
      "predicted=5940.101643, expected=5996.000000\n",
      "predicted=5918.916990, expected=5820.500000\n",
      "predicted=5887.679333, expected=5470.000000\n",
      "predicted=5441.629503, expected=5735.000000\n",
      "predicted=5755.150264, expected=5895.000000\n",
      "predicted=5972.697175, expected=5768.100000\n",
      "predicted=5771.727576, expected=5795.000000\n",
      "predicted=5778.850580, expected=6125.000000\n",
      "predicted=6108.006964, expected=6135.300000\n",
      "predicted=6096.833865, expected=6406.500000\n",
      "predicted=6404.500817, expected=6657.300000\n",
      "predicted=6695.266464, expected=7210.100000\n",
      "predicted=7164.324354, expected=7191.000000\n",
      "predicted=7266.238541, expected=7489.900000\n",
      "predicted=7512.093253, expected=7316.700000\n",
      "predicted=7407.825367, expected=7186.800000\n",
      "predicted=7135.793483, expected=7364.300000\n",
      "predicted=7440.824509, expected=7376.900000\n",
      "predicted=7435.657469, expected=7195.000000\n",
      "predicted=7208.926001, expected=6704.100000\n",
      "predicted=6700.998647, expected=6079.300000\n",
      "predicted=5965.979839, expected=6241.000000\n",
      "predicted=6174.557138, expected=6570.000000\n",
      "predicted=6682.627290, expected=6565.000000\n"
     ]
    }
   ],
   "source": [
    "from pandas import read_csv\n",
    "from pandas import datetime\n",
    "from pandas import DataFrame\n",
    "from statsmodels.tsa.arima_model import ARIMA\n",
    "from matplotlib import pyplot\n",
    "import numpy as np\n",
    "def parser(x):    \n",
    "    return datetime.strptime(x, '%Y-%m-%d')\n",
    "\n",
    "series = read_csv('bitcoinsort.csv', header='infer', dtype={'time':np.str,'price':np.float64},parse_dates=[0], index_col=0, squeeze=True, date_parser=parser)\n",
    "\n",
    "X = series.values\n",
    "size = int(len(X) * 0.66)\n",
    "train, test = X[0:size], X[size:len(X)]\n",
    "history = [x for x in train]\n",
    "predictions = list()\n",
    "for t in range(len(test)):\n",
    "    model = ARIMA(history, order=(10,1,0))\n",
    "    model_fit = model.fit(disp=0)\n",
    "    output = model_fit.forecast()\n",
    "    yhat = output[0]\n",
    "    predictions.append(yhat)\n",
    "    obs = test[t]\n",
    "    history.append(obs)\n",
    "    print('predicted=%f, expected=%f' % (yhat, obs))"
   ]
  },
  {
   "cell_type": "code",
   "execution_count": 30,
   "metadata": {},
   "outputs": [
    {
     "data": {
      "text/html": [
       "<div>\n",
       "<style scoped>\n",
       "    .dataframe tbody tr th:only-of-type {\n",
       "        vertical-align: middle;\n",
       "    }\n",
       "\n",
       "    .dataframe tbody tr th {\n",
       "        vertical-align: top;\n",
       "    }\n",
       "\n",
       "    .dataframe thead th {\n",
       "        text-align: right;\n",
       "    }\n",
       "</style>\n",
       "<table border=\"1\" class=\"dataframe\">\n",
       "  <thead>\n",
       "    <tr style=\"text-align: right;\">\n",
       "      <th></th>\n",
       "      <th>time</th>\n",
       "      <th>price</th>\n",
       "    </tr>\n",
       "  </thead>\n",
       "  <tbody>\n",
       "    <tr>\n",
       "      <th>0</th>\n",
       "      <td>2016-02-27</td>\n",
       "      <td>427.1</td>\n",
       "    </tr>\n",
       "    <tr>\n",
       "      <th>1</th>\n",
       "      <td>2016-11-18</td>\n",
       "      <td>750.9</td>\n",
       "    </tr>\n",
       "    <tr>\n",
       "      <th>2</th>\n",
       "      <td>2016-06-13</td>\n",
       "      <td>690.9</td>\n",
       "    </tr>\n",
       "    <tr>\n",
       "      <th>3</th>\n",
       "      <td>2016-08-08</td>\n",
       "      <td>588.7</td>\n",
       "    </tr>\n",
       "    <tr>\n",
       "      <th>4</th>\n",
       "      <td>2017-02-06</td>\n",
       "      <td>1047.3</td>\n",
       "    </tr>\n",
       "  </tbody>\n",
       "</table>\n",
       "</div>"
      ],
      "text/plain": [
       "        time   price\n",
       "0 2016-02-27   427.1\n",
       "1 2016-11-18   750.9\n",
       "2 2016-06-13   690.9\n",
       "3 2016-08-08   588.7\n",
       "4 2017-02-06  1047.3"
      ]
     },
     "execution_count": 30,
     "metadata": {},
     "output_type": "execute_result"
    }
   ],
   "source": [
    "from pandas import read_csv\n",
    "from pandas import datetime\n",
    "from pandas import DataFrame\n",
    "from statsmodels.tsa.arima_model import ARIMA\n",
    "from matplotlib import pyplot\n",
    "def parser(x):\n",
    "    return datetime.strptime(x, '%Y%m%d')\n",
    "\n",
    "y = read_csv('bitcoinprices.txt', header=None,names=['time','price'], parse_dates=[0], index_col=False, squeeze=True, date_parser=parser)\n",
    "y.head()\n"
   ]
  },
  {
   "cell_type": "code",
   "execution_count": 42,
   "metadata": {},
   "outputs": [],
   "source": [
    "#x=y.sort([\"time\"])\n",
    "x = y.sort_values('time',axis=0)\n",
    "x.to_csv('bitcoinsort.csv', index=False)"
   ]
  },
  {
   "cell_type": "code",
   "execution_count": 45,
   "metadata": {},
   "outputs": [
    {
     "name": "stdout",
     "output_type": "stream",
     "text": [
      "Test MSE: 32409.630\n"
     ]
    },
    {
     "data": {
      "image/png": "[encoded data removed]",
      "text/plain": [
       "<matplotlib.figure.Figure at 0x1d97f4ae048>"
      ]
     },
     "metadata": {},
     "output_type": "display_data"
    }
   ],
   "source": [
    "from sklearn.metrics import mean_squared_error\n",
    "error = mean_squared_error(test, predictions)\n",
    "print('Test MSE: %.3f' % error)\n",
    "# plot\n",
    "pyplot.plot(test)\n",
    "pyplot.plot(predictions, color='red')\n",
    "pyplot.show()"
   ]
  },
  {
   "cell_type": "code",
   "execution_count": null,
   "metadata": {
    "collapsed": true
   },
   "outputs": [],
   "source": []
  }
 ],
 "metadata": {
  "kernelspec": {
   "display_name": "Python 3",
   "language": "python",
   "name": "python3"
  },
  "language_info": {
   "codemirror_mode": {
    "name": "ipython",
    "version": 3
   },
   "file_extension": ".py",
   "mimetype": "text/x-python",
   "name": "python",
   "nbconvert_exporter": "python",
   "pygments_lexer": "ipython3",
   "version": "3.6.3"
  }
 },
 "nbformat": 4,
 "nbformat_minor": 2
}
